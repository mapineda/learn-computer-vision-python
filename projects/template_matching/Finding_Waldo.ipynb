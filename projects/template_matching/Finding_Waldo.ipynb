{
 "cells": [
  {
   "cell_type": "code",
   "execution_count": null,
   "metadata": {
    "collapsed": true
   },
   "outputs": [],
   "source": [
    "import cv2\n",
    "import np as numpy\n",
    "\n",
    "# load input image and convert to grayscale\n",
    "image = cv2.imread('images/WaldoBeache.jpg')\n",
    "cv2.imshow('Where Is Waldo?', image)\n",
    "cv2.waitKey(0)\n",
    "# convert to grayscale\n",
    "gray = cv2.imread('images/WaldoBeache.jpg', 0)\n",
    "cv2.imshow('Where Is Waldo?', gray)\n",
    "cv2.waitKey(0)\n",
    "\n",
    "# Load Template Image\n",
    "template = cv2.imread('waldo.jpg', 0)\n",
    "# Use cv2.matchTemplate() function\n",
    "# creates an array of a result of paramters\n",
    "# params: image, template, cv2.TM_CCOEFF \n",
    "result = cv2.matchTemplate(gray, template, cv2.TM_CCOEFF)\n",
    "#returns coordinates for matched object\n",
    "min_val, max_val, min_loc, max_loc = cv2.minMaxLoc(result)\n",
    "\n",
    "# Create Bounding Box to mark detected object\n",
    "top_left = max_loc\n",
    "bottom_right = {top_left[0] + 50, top_left[0] + 50}\n",
    "cv2.rectangle(image, top_left, bottom_right (0,0,255), 5)\n",
    "\n",
    "cv2.imshow('Where is Waldo?', image)\n",
    "cv2.waitKey(0)\n",
    "\n",
    "cv2.destroyAllWindows()"
   ]
  }
 ],
 "metadata": {
  "anaconda-cloud": {},
  "kernelspec": {
   "display_name": "Python [conda root]",
   "language": "python",
   "name": "conda-root-py"
  },
  "language_info": {
   "codemirror_mode": {
    "name": "ipython",
    "version": 2
   },
   "file_extension": ".py",
   "mimetype": "text/x-python",
   "name": "python",
   "nbconvert_exporter": "python",
   "pygments_lexer": "ipython2",
   "version": "2.7.13"
  }
 },
 "nbformat": 4,
 "nbformat_minor": 2
}
